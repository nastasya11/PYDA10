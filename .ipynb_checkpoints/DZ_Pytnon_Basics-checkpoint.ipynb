{
 "cells": [
  {
   "cell_type": "markdown",
   "metadata": {},
   "source": [
    "Задание 3. Разработать приложение для определения знака зодиака по дате рождения. Пример:\n",
    "\n",
    "Введите месяц: март\n",
    "\n",
    "Введите число: 6\n",
    "\n",
    "Вывод: Рыбы"
   ]
  },
  {
   "cell_type": "code",
   "execution_count": 2,
   "metadata": {},
   "outputs": [
    {
     "data": {
      "text/plain": [
       "False"
      ]
     },
     "execution_count": 2,
     "metadata": {},
     "output_type": "execute_result"
    }
   ],
   "source": [
    "#задание1\n",
    "\n",
    "long_phrase = \"Насколько проще было бы писать программы, если бы не заказчики\"\n",
    "short_phrase = \"640Кб должно хватить для любых задач. Билл Гейтс (по легенде)\"\n",
    "len(\"long_phrase\") > len(\"short_phrase\")"
   ]
  },
  {
   "cell_type": "code",
   "execution_count": 37,
   "metadata": {},
   "outputs": [
    {
     "name": "stdout",
     "output_type": "stream",
     "text": [
      "Объем файла равен 13200 Mb\n"
     ]
    }
   ],
   "source": [
    "#Задание2 \n",
    "a = 600\n",
    "b = 2^20\n",
    "c = a * b\n",
    "print(\"Объем файла равен\", c, \"Mb\")"
   ]
  },
  {
   "cell_type": "code",
   "execution_count": 38,
   "metadata": {
    "scrolled": true
   },
   "outputs": [
    {
     "name": "stdout",
     "output_type": "stream",
     "text": [
      "Введите имя 600\n",
      "Объем файла равен 13200 Mb\n"
     ]
    }
   ],
   "source": [
    "name = input(\"Введите имя \")\n",
    "b = 2^20\n",
    "c = a * b\n",
    "print(\"Объем файла равен\", c, \"Mb\")"
   ]
  },
  {
   "cell_type": "code",
   "execution_count": 6,
   "metadata": {},
   "outputs": [
    {
     "name": "stdout",
     "output_type": "stream",
     "text": [
      "Рыбы\n"
     ]
    }
   ],
   "source": [
    "#Задание 3. Приложение для определения знаков зодиака\n",
    "\n",
    "#21 марта – 20 апреля Овен\n",
    "month = 2\n",
    "date = 21\n",
    "if month ==3 and date >=21 or month ==4 and date <=20:\n",
    "    print(\"Овен\")\n",
    "#21 апреля – 21 мая Телец    \n",
    "if month ==4 and date >=21 or month ==5 and date <=21:\n",
    "    print(\"Телец\")   \n",
    "#22 мая – 21 июня Близнецы\n",
    "if month ==5 and date >=22 or month ==6 and date <=21:\n",
    "    print(\"Близнецы\") \n",
    "#22 июня – 22 июля Рак \n",
    "if month ==6 and date >=22 or month ==7 and date <=22:\n",
    "    print(\"Рак\")\n",
    "#23 июля – 23 августа Лев\n",
    "if month ==7 and date >=23 or month ==8 and date <=23:\n",
    "    print(\"Лев\")\n",
    "#24 августа – 22 сентября Дева \n",
    "if month ==8 and date >=24 or month ==9 and date <=22:\n",
    "    print(\"Лев\")\n",
    "#23 сентября – 22 октября Весы\n",
    "if month ==9 and date >=23 or month ==10 and date <=22:\n",
    "    print(\"Весы\")\n",
    "#23 октября – 20 ноября Скорпион\n",
    "if month ==10 and date >=23 or month ==11 and date <=20:\n",
    "    print(\"Скорпион\")\n",
    "#21 ноября – 21 декабря Стрелец\n",
    "if month ==11 and date >=21 or month ==12 and date <=21:\n",
    "    print(\"Лев\")\n",
    "#22 декабря – 20 января Козерог\n",
    "if month ==12 and date >=22 or month ==1 and date <=20:\n",
    "    print(\"Козерог\")\n",
    "#21 января – 19 февраля Водолей\n",
    "if month ==1 and date >=21 or month ==2 and date <=19:\n",
    "    print(\"Водолей\")\n",
    "#20 февраля – 20 марта Рыбы\n",
    "if month ==2 and date >=20 or month ==3 and date <=20:\n",
    "    print(\"Рыбы\")"
   ]
  },
  {
   "cell_type": "code",
   "execution_count": 9,
   "metadata": {},
   "outputs": [
    {
     "name": "stdout",
     "output_type": "stream",
     "text": [
      "На ипотеку потрачено  120000.0\n",
      "Накоплено  80000.0\n"
     ]
    }
   ],
   "source": [
    "#Задание 4\n",
    "\n",
    "salary = 50000\n",
    "credit = 20\n",
    "life = 50\n",
    "bonus = 2\n",
    "\n",
    "credit_all = (salary*12*credit)/100\n",
    "life_all = salary*(12*life/100+bonus*2)\n",
    "pension =  salary*(12+bonus)- credit_all - life_all\n",
    "print (\"На ипотеку потрачено \",credit_all)\n",
    "print (\"Накоплено \", pension)"
   ]
  }
 ],
 "metadata": {
  "kernelspec": {
   "display_name": "Python 3",
   "language": "python",
   "name": "python3"
  },
  "language_info": {
   "codemirror_mode": {
    "name": "ipython",
    "version": 3
   },
   "file_extension": ".py",
   "mimetype": "text/x-python",
   "name": "python",
   "nbconvert_exporter": "python",
   "pygments_lexer": "ipython3",
   "version": "3.7.6"
  }
 },
 "nbformat": 4,
 "nbformat_minor": 4
}
