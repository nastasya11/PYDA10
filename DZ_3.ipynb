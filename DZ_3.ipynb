{
 "cells": [
  {
   "cell_type": "code",
   "execution_count": 2,
   "metadata": {
    "scrolled": false
   },
   "outputs": [
    {
     "name": "stdout",
     "output_type": "stream",
     "text": [
      "om\n"
     ]
    }
   ],
   "source": [
    "word = \"home\"\n",
    "word_len = len(word)\n",
    "word_len_is_even = word_len % 2 == 0\n",
    "if word_len_is_even:\n",
    "    first_char_index = int(word_len / 2 - 1)\n",
    "    print(word[first_char_index:first_char_index + 2])\n",
    "else:\n",
    "    print(word[int(word_len / 2)])"
   ]
  },
  {
   "cell_type": "code",
   "execution_count": 64,
   "metadata": {},
   "outputs": [
    {
     "name": "stdout",
     "output_type": "stream",
     "text": [
      "Perfect couples: \n",
      "Alex  and  Emma\n",
      "Arthur  and  Kate\n",
      "John  and  Kira\n",
      "Peter  and  Liza\n",
      "Richard  and  Trisha\n",
      "That's all couples we have\n"
     ]
    }
   ],
   "source": [
    "boys = ['Peter', 'Alex', 'John', 'Arthur', 'Richard']\n",
    "girls = ['Kate', 'Liza', 'Kira', 'Emma', 'Trisha']\n",
    "\n",
    "if len(boys) > len(girls) or len(girls) > len(boys):\n",
    "    print(\"Lists of boys and girls are not equal! Someone will be alone\")\n",
    "else:\n",
    "    boys_sorted = sorted(boys)\n",
    "    girls_sorted = sorted(girls)\n",
    "    \n",
    "    couples = zip(boys_sorted, girls_sorted)\n",
    "    couples_new = list(couples)\n",
    "#print(couples_new)\n",
    "\n",
    "    print(\"Perfect couples: \")\n",
    "\n",
    "    for perfect_couple in couples_new:    \n",
    "        #print(perfect_couple)\n",
    "        man, woman = (perfect_couple)\n",
    "        print (man,\" and \", woman)\n",
    "\n",
    "    print(\"That's all couples we have\")"
   ]
  },
  {
   "cell_type": "code",
   "execution_count": 71,
   "metadata": {
    "scrolled": true
   },
   "outputs": [
    {
     "name": "stdout",
     "output_type": "stream",
     "text": [
      "Средняя температура в  Thailand  -  23 градусов по Цельсию\n",
      "Средняя температура в  Germany  -  13 градусов по Цельсию\n",
      "Средняя температура в  Russia  -  3 градусов по Цельсию\n",
      "Средняя температура в  Poland  -  11 градусов по Цельсию\n"
     ]
    }
   ],
   "source": [
    "countries_temperature = [\n",
    " ['Thailand', [75.2, 77, 78.8, 73.4, 68, 75.2, 77]],\n",
    " ['Germany', [57.2, 55.4, 59, 59, 53.6, 55.4, 57.2]],\n",
    " ['Russia', [35.6, 37.4, 39.2, 41, 42.8, 39.2, 35.6]],\n",
    " ['Poland', [50, 50, 53.6, 57.2, 55.4, 55.4, 51.8]],\n",
    "]\n",
    "\n",
    "for country, temperature in countries_temperature:\n",
    "       # print(country, temperature)\n",
    "        a = int(sum(temperature) / len(temperature))\n",
    "        b = int((5/9)*(a-32))\n",
    "        print (\"Средняя температура в \", country, \" - \", b, \"градусов по Цельсию\")"
   ]
  },
  {
   "cell_type": "code",
   "execution_count": 18,
   "metadata": {},
   "outputs": [
    {
     "name": "stdout",
     "output_type": "stream",
     "text": [
      "23.25\n"
     ]
    }
   ],
   "source": [
    "stream = [\n",
    "    '2018-01-01, user1, 3',\n",
    "    '2018-01-07, user1, 4',\n",
    "    '2018-03-29, user1, 1',\n",
    "    '2018-04-04, user1, 13',\n",
    "    '2018-01-05, user2, 7',\n",
    "    '2018-06-14, user3, 4',\n",
    "    '2018-07-02, user3, 10',\n",
    "    '2018-03-21, user4, 19',\n",
    "    '2018-03-22, user4, 4',\n",
    "    '2018-04-22, user4, 8',\n",
    "    '2018-05-03, user4, 9',\n",
    "    '2018-05-11, user4, 11',\n",
    "]\n",
    "\n",
    "sum_views = 0\n",
    "users = []\n",
    "\n",
    "for el in stream:\n",
    "    #print(el.split(\",\"))\n",
    "    el = (el.split(\",\"))\n",
    "   # print(el)\n",
    "    sum_views = sum_views + int(el[2])\n",
    "    #print(sum_views) \n",
    "    \n",
    "    if el[1] not in users:\n",
    "        users.append(el[1])\n",
    "        \n",
    "        #print(sum_views)\n",
    "        #print(users)\n",
    "        \n",
    "goal = sum_views / len(users)\n",
    "print(goal)"
   ]
  },
  {
   "cell_type": "code",
   "execution_count": 126,
   "metadata": {},
   "outputs": [
    {
     "name": "stdout",
     "output_type": "stream",
     "text": [
      "25\n"
     ]
    }
   ],
   "source": [
    "stats = [\n",
    "    ['2018-01-01', 'google', 25],\n",
    "    ['2018-01-01', 'yandex', 65],\n",
    "    ['2018-01-01', 'market', 89],\n",
    "    ['2018-01-02', 'google', 574],\n",
    "    ['2018-01-02', 'yandex', 249],\n",
    "    ['2018-01-02', 'market', 994],\n",
    "    ['2018-01-03', 'google', 1843],\n",
    "    ['2018-01-03', 'yandex', 1327],\n",
    "    ['2018-01-03', 'market', 1764],\n",
    "]\n",
    "\n",
    "input_date = '2018-01-01'\n",
    "input_company = 'google'\n",
    "\n",
    "for el in stats:\n",
    "    if input_date == el[0] and input_company == el[1]:\n",
    "        print(el[2])\n",
    "    else:\n",
    "        break"
   ]
  },
  {
   "cell_type": "code",
   "execution_count": 135,
   "metadata": {},
   "outputs": [
    {
     "name": "stdout",
     "output_type": "stream",
     "text": [
      "103\n"
     ]
    }
   ],
   "source": [
    "data = [\n",
    "    [13, 25, 23, 34],\n",
    "    [45, 32, 44, 47],\n",
    "    [12, 33, 23, 95],\n",
    "    [13, 53, 34, 35]\n",
    "]\n",
    "\n",
    "sum_all = data[0][0] + data [1][1] + data[2][2] + data[3][3]\n",
    "print(sum_all)"
   ]
  },
  {
   "cell_type": "code",
   "execution_count": 16,
   "metadata": {},
   "outputs": [
    {
     "name": "stdout",
     "output_type": "stream",
     "text": [
      "103\n"
     ]
    }
   ],
   "source": [
    "data = [\n",
    "    [13, 25, 23, 34],\n",
    "    [45, 32, 44, 47],\n",
    "    [12, 33, 23, 95],\n",
    "    [13, 53, 34, 35]\n",
    "]\n",
    "\n",
    "sum_diag = 0\n",
    "x = 0\n",
    "y = 0\n",
    "\n",
    "for z in data:\n",
    "    x += 1\n",
    "    y += 1\n",
    "    #print(x, \" \", y)\n",
    "    sum_diag += data[x-1][y-1]\n",
    "    #print(sum_diag)\n",
    "print(sum_diag)"
   ]
  }
 ],
 "metadata": {
  "kernelspec": {
   "display_name": "Python 3",
   "language": "python",
   "name": "python3"
  },
  "language_info": {
   "codemirror_mode": {
    "name": "ipython",
    "version": 3
   },
   "file_extension": ".py",
   "mimetype": "text/x-python",
   "name": "python",
   "nbconvert_exporter": "python",
   "pygments_lexer": "ipython3",
   "version": "3.7.6"
  }
 },
 "nbformat": 4,
 "nbformat_minor": 4
}
